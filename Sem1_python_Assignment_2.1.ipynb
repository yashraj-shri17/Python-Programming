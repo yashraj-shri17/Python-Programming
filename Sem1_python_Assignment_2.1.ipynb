{
 "cells": [
  {
   "cell_type": "markdown",
   "id": "3b4ea09a",
   "metadata": {},
   "source": [
    "# Building a Secure Authentication System"
   ]
  },
  {
   "cell_type": "markdown",
   "id": "d17a2344",
   "metadata": {},
   "source": [
    "Objective: Writing a Python script for setting a password involves incorporating various\n",
    "parameters to ensure the password meets specific security criteria. Below are questions that\n",
    "outline different requirements for such a script, each introducing new conditions to make the\n",
    "password more secure:\n",
    "Minimum Length: The password must be at least 10 characters long. Character Variety: It\n",
    "must contain at least:\n",
    "● Two uppercase letters.\n",
    "● Two lowercase letters.\n",
    "● Two digits.\n",
    "● Two special characters (e.g., @, #, $, %, &, *, !).\n",
    "Sequence and Repetition Restrictions:\n",
    "● The password should not contain any sequence of three or more\n",
    "consecutive characters from the username (if provided).\n",
    "● No character should repeat more than three times in a row (e.g., \"aaa\" is\n",
    "allowed, but \"aaaa\" is not).\n",
    "Historical Password Check:\n",
    "● The new password must not be the same as the last three passwords used by the\n",
    "user."
   ]
  },
  {
   "cell_type": "code",
   "execution_count": 1,
   "id": "71062d89",
   "metadata": {},
   "outputs": [
    {
     "name": "stdout",
     "output_type": "stream",
     "text": [
      "Enter your username: RohitKumarSah\n",
      "Enter your new password: Rghi56$%gt\n",
      "Password set successfully!\n",
      "Last three passwords: ['Rghi56$%gt']\n"
     ]
    }
   ],
   "source": [
    "def validate_password(password, username, last_three_passwords):\n",
    "    # Check minimum length and character variety\n",
    "    if len(password) < 10 or not (\n",
    "        any(c.isupper() for c in password) and\n",
    "        any(c.islower() for c in password) and\n",
    "        any(c.isdigit() for c in password) and\n",
    "        any(c in \"!@#$%^&*\" for c in password)\n",
    "    ):\n",
    "        return False, \"Password must be at least 10 characters long and contain two uppercase letters, two lowercase letters, two digits, and two special characters.\"\n",
    "    \n",
    "    # Check sequence and repetition restrictions\n",
    "    if any(password[i] == password[i+1] == password[i+2] for i in range(len(password) - 2)):\n",
    "        return False, \"Password cannot contain sequences of three or more repeating characters.\"\n",
    "\n",
    "    # Check for username sequence\n",
    "    if any(username[i:i+3] in password for i in range(len(username) - 2)):\n",
    "        return False, \"Password cannot contain sequences of three or more consecutive characters from the username.\"\n",
    "\n",
    "    # Check historical password check\n",
    "    if password in last_three_passwords:\n",
    "        return False, \"Password cannot be the same as any of the last three passwords used.\"\n",
    "    \n",
    "    return True, \"Password is valid.\"\n",
    "\n",
    "\n",
    "def main():\n",
    "    username = input(\"Enter your username: \")\n",
    "    last_three_passwords = []  # Placeholder for last three passwords\n",
    "    \n",
    "    while True:\n",
    "        password = input(\"Enter your new password: \")\n",
    "        is_valid, message = validate_password(password, username, last_three_passwords)\n",
    "        if is_valid:\n",
    "            last_three_passwords.append(password) \n",
    "            if len(last_three_passwords) > 3:\n",
    "                last_three_passwords.pop(0) \n",
    "            print(\"Password set successfully!\")\n",
    "            break\n",
    "        else:\n",
    "            print(\"Invalid Password:\", message)\n",
    "\n",
    "main()\n"
   ]
  },
  {
   "cell_type": "code",
   "execution_count": null,
   "id": "2c76c767",
   "metadata": {},
   "outputs": [],
   "source": []
  },
  {
   "cell_type": "code",
   "execution_count": null,
   "id": "22bfe574",
   "metadata": {},
   "outputs": [],
   "source": []
  },
  {
   "cell_type": "code",
   "execution_count": null,
   "id": "4ecd9442",
   "metadata": {},
   "outputs": [],
   "source": []
  }
 ],
 "metadata": {
  "kernelspec": {
   "display_name": "Python 3 (ipykernel)",
   "language": "python",
   "name": "python3"
  },
  "language_info": {
   "codemirror_mode": {
    "name": "ipython",
    "version": 3
   },
   "file_extension": ".py",
   "mimetype": "text/x-python",
   "name": "python",
   "nbconvert_exporter": "python",
   "pygments_lexer": "ipython3",
   "version": "3.11.5"
  }
 },
 "nbformat": 4,
 "nbformat_minor": 5
}
